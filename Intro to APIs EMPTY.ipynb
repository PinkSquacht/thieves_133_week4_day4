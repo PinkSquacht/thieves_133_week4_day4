{
 "cells": [
  {
   "cell_type": "markdown",
   "id": "7196054f",
   "metadata": {},
   "source": [
    "# Working with APIs"
   ]
  },
  {
   "cell_type": "markdown",
   "id": "0547b71e",
   "metadata": {},
   "source": [
    "API stands for Application programming interface<br>\n",
    "APIs are a way for applications to talk to eachother<br>\n",
    "In python we use the requests package to handle the connection<br>\n",
    "<small><strong>Note: It is requests with an s not request(this is a different package)</strong></small><br>\n",
    "Most API's communicate with data in the form of JSON<br>\n",
    "JSON stands for JavaScript Object Notation"
   ]
  },
  {
   "attachments": {},
   "cell_type": "markdown",
   "id": "cc80a1f0",
   "metadata": {},
   "source": [
    "### importing requests module"
   ]
  },
  {
   "cell_type": "code",
   "execution_count": 1,
   "id": "4db9d154",
   "metadata": {},
   "outputs": [],
   "source": [
    "import requests\n"
   ]
  },
  {
   "cell_type": "markdown",
   "id": "e8c2ce51",
   "metadata": {},
   "source": [
    "We will be connecting to the Ergast F1 Racer API today:\n",
    "http://ergast.com/mrd/\n",
    "\n",
    "to view JSON data nicely in the Chrome browser install the extension JSONview"
   ]
  },
  {
   "cell_type": "code",
   "execution_count": 2,
   "id": "52c440c6",
   "metadata": {},
   "outputs": [],
   "source": [
    "# Make sure to attach extension .json at the end of url\n",
    "url = 'http://ergast.com/api/f1/2008/5/driverStandings.json'"
   ]
  },
  {
   "attachments": {},
   "cell_type": "markdown",
   "id": "1f8dc8b3",
   "metadata": {},
   "source": [
    "### using the request package to access data from api/url"
   ]
  },
  {
   "cell_type": "code",
   "execution_count": 5,
   "id": "f60c1b4a",
   "metadata": {},
   "outputs": [
    {
     "name": "stdout",
     "output_type": "stream",
     "text": [
      "<class 'requests.models.Response'>\n"
     ]
    }
   ],
   "source": [
    "respone = requests.get(url)\n",
    "print(type(respone))"
   ]
  },
  {
   "attachments": {},
   "cell_type": "markdown",
   "id": "52f840a9",
   "metadata": {},
   "source": [
    "### checking and making sure we got a successful response from our API\n",
    "#### status codes: 200 = ok/successful, 400 = bad/unsuccessful"
   ]
  },
  {
   "cell_type": "code",
   "execution_count": 7,
   "id": "7b63a204",
   "metadata": {},
   "outputs": [
    {
     "data": {
      "text/plain": [
       "True"
      ]
     },
     "execution_count": 7,
     "metadata": {},
     "output_type": "execute_result"
    }
   ],
   "source": [
    "respone.status_code\n",
    "respone.ok"
   ]
  },
  {
   "attachments": {},
   "cell_type": "markdown",
   "id": "bc3fa89d",
   "metadata": {},
   "source": [
    "### view the response as a JSON with .json()"
   ]
  },
  {
   "cell_type": "code",
   "execution_count": 10,
   "id": "ed4d3256",
   "metadata": {},
   "outputs": [],
   "source": [
    "data = respone.json()"
   ]
  },
  {
   "attachments": {},
   "cell_type": "markdown",
   "id": "3b49045f",
   "metadata": {},
   "source": [
    "### Get the Driver Standings Data from JSON"
   ]
  },
  {
   "cell_type": "code",
   "execution_count": 12,
   "id": "f074dfcf",
   "metadata": {},
   "outputs": [
    {
     "name": "stdout",
     "output_type": "stream",
     "text": [
      "[{'position': '1', 'positionText': '1', 'points': '35', 'wins': '2', 'Driver': {'driverId': 'raikkonen', 'permanentNumber': '7', 'code': 'RAI', 'url': 'http://en.wikipedia.org/wiki/Kimi_R%C3%A4ikk%C3%B6nen', 'givenName': 'Kimi', 'familyName': 'Räikkönen', 'dateOfBirth': '1979-10-17', 'nationality': 'Finnish'}, 'Constructors': [{'constructorId': 'ferrari', 'url': 'http://en.wikipedia.org/wiki/Scuderia_Ferrari', 'name': 'Ferrari', 'nationality': 'Italian'}]}, {'position': '2', 'positionText': '2', 'points': '28', 'wins': '2', 'Driver': {'driverId': 'massa', 'permanentNumber': '19', 'code': 'MAS', 'url': 'http://en.wikipedia.org/wiki/Felipe_Massa', 'givenName': 'Felipe', 'familyName': 'Massa', 'dateOfBirth': '1981-04-25', 'nationality': 'Brazilian'}, 'Constructors': [{'constructorId': 'ferrari', 'url': 'http://en.wikipedia.org/wiki/Scuderia_Ferrari', 'name': 'Ferrari', 'nationality': 'Italian'}]}, {'position': '3', 'positionText': '3', 'points': '28', 'wins': '1', 'Driver': {'driverId': 'hamilton', 'permanentNumber': '44', 'code': 'HAM', 'url': 'http://en.wikipedia.org/wiki/Lewis_Hamilton', 'givenName': 'Lewis', 'familyName': 'Hamilton', 'dateOfBirth': '1985-01-07', 'nationality': 'British'}, 'Constructors': [{'constructorId': 'mclaren', 'url': 'http://en.wikipedia.org/wiki/McLaren', 'name': 'McLaren', 'nationality': 'British'}]}, {'position': '4', 'positionText': '4', 'points': '24', 'wins': '0', 'Driver': {'driverId': 'kubica', 'permanentNumber': '88', 'code': 'KUB', 'url': 'http://en.wikipedia.org/wiki/Robert_Kubica', 'givenName': 'Robert', 'familyName': 'Kubica', 'dateOfBirth': '1984-12-07', 'nationality': 'Polish'}, 'Constructors': [{'constructorId': 'bmw_sauber', 'url': 'http://en.wikipedia.org/wiki/BMW_Sauber', 'name': 'BMW Sauber', 'nationality': 'German'}]}, {'position': '5', 'positionText': '5', 'points': '20', 'wins': '0', 'Driver': {'driverId': 'heidfeld', 'code': 'HEI', 'url': 'http://en.wikipedia.org/wiki/Nick_Heidfeld', 'givenName': 'Nick', 'familyName': 'Heidfeld', 'dateOfBirth': '1977-05-10', 'nationality': 'German'}, 'Constructors': [{'constructorId': 'bmw_sauber', 'url': 'http://en.wikipedia.org/wiki/BMW_Sauber', 'name': 'BMW Sauber', 'nationality': 'German'}]}, {'position': '6', 'positionText': '6', 'points': '14', 'wins': '0', 'Driver': {'driverId': 'kovalainen', 'code': 'KOV', 'url': 'http://en.wikipedia.org/wiki/Heikki_Kovalainen', 'givenName': 'Heikki', 'familyName': 'Kovalainen', 'dateOfBirth': '1981-10-19', 'nationality': 'Finnish'}, 'Constructors': [{'constructorId': 'mclaren', 'url': 'http://en.wikipedia.org/wiki/McLaren', 'name': 'McLaren', 'nationality': 'British'}]}, {'position': '7', 'positionText': '7', 'points': '10', 'wins': '0', 'Driver': {'driverId': 'webber', 'code': 'WEB', 'url': 'http://en.wikipedia.org/wiki/Mark_Webber_(racing_driver)', 'givenName': 'Mark', 'familyName': 'Webber', 'dateOfBirth': '1976-08-27', 'nationality': 'Australian'}, 'Constructors': [{'constructorId': 'red_bull', 'url': 'http://en.wikipedia.org/wiki/Red_Bull_Racing', 'name': 'Red Bull', 'nationality': 'Austrian'}]}, {'position': '8', 'positionText': '8', 'points': '9', 'wins': '0', 'Driver': {'driverId': 'alonso', 'permanentNumber': '14', 'code': 'ALO', 'url': 'http://en.wikipedia.org/wiki/Fernando_Alonso', 'givenName': 'Fernando', 'familyName': 'Alonso', 'dateOfBirth': '1981-07-29', 'nationality': 'Spanish'}, 'Constructors': [{'constructorId': 'renault', 'url': 'http://en.wikipedia.org/wiki/Renault_in_Formula_One', 'name': 'Renault', 'nationality': 'French'}]}, {'position': '9', 'positionText': '9', 'points': '9', 'wins': '0', 'Driver': {'driverId': 'trulli', 'code': 'TRU', 'url': 'http://en.wikipedia.org/wiki/Jarno_Trulli', 'givenName': 'Jarno', 'familyName': 'Trulli', 'dateOfBirth': '1974-07-13', 'nationality': 'Italian'}, 'Constructors': [{'constructorId': 'toyota', 'url': 'http://en.wikipedia.org/wiki/Toyota_Racing', 'name': 'Toyota', 'nationality': 'Japanese'}]}, {'position': '10', 'positionText': '10', 'points': '8', 'wins': '0', 'Driver': {'driverId': 'rosberg', 'permanentNumber': '6', 'code': 'ROS', 'url': 'http://en.wikipedia.org/wiki/Nico_Rosberg', 'givenName': 'Nico', 'familyName': 'Rosberg', 'dateOfBirth': '1985-06-27', 'nationality': 'German'}, 'Constructors': [{'constructorId': 'williams', 'url': 'http://en.wikipedia.org/wiki/Williams_Grand_Prix_Engineering', 'name': 'Williams', 'nationality': 'British'}]}, {'position': '11', 'positionText': '11', 'points': '5', 'wins': '0', 'Driver': {'driverId': 'nakajima', 'code': 'NAK', 'url': 'http://en.wikipedia.org/wiki/Kazuki_Nakajima', 'givenName': 'Kazuki', 'familyName': 'Nakajima', 'dateOfBirth': '1985-01-11', 'nationality': 'Japanese'}, 'Constructors': [{'constructorId': 'williams', 'url': 'http://en.wikipedia.org/wiki/Williams_Grand_Prix_Engineering', 'name': 'Williams', 'nationality': 'British'}]}, {'position': '12', 'positionText': '12', 'points': '3', 'wins': '0', 'Driver': {'driverId': 'button', 'permanentNumber': '22', 'code': 'BUT', 'url': 'http://en.wikipedia.org/wiki/Jenson_Button', 'givenName': 'Jenson', 'familyName': 'Button', 'dateOfBirth': '1980-01-19', 'nationality': 'British'}, 'Constructors': [{'constructorId': 'honda', 'url': 'http://en.wikipedia.org/wiki/Honda_Racing_F1', 'name': 'Honda', 'nationality': 'Japanese'}]}, {'position': '13', 'positionText': '13', 'points': '2', 'wins': '0', 'Driver': {'driverId': 'bourdais', 'code': 'BOU', 'url': 'http://en.wikipedia.org/wiki/S%C3%A9bastien_Bourdais', 'givenName': 'Sébastien', 'familyName': 'Bourdais', 'dateOfBirth': '1979-02-28', 'nationality': 'French'}, 'Constructors': [{'constructorId': 'toro_rosso', 'url': 'http://en.wikipedia.org/wiki/Scuderia_Toro_Rosso', 'name': 'Toro Rosso', 'nationality': 'Italian'}]}, {'position': '14', 'positionText': '14', 'points': '0', 'wins': '0', 'Driver': {'driverId': 'coulthard', 'code': 'COU', 'url': 'http://en.wikipedia.org/wiki/David_Coulthard', 'givenName': 'David', 'familyName': 'Coulthard', 'dateOfBirth': '1971-03-27', 'nationality': 'British'}, 'Constructors': [{'constructorId': 'red_bull', 'url': 'http://en.wikipedia.org/wiki/Red_Bull_Racing', 'name': 'Red Bull', 'nationality': 'Austrian'}]}, {'position': '15', 'positionText': '15', 'points': '0', 'wins': '0', 'Driver': {'driverId': 'glock', 'code': 'GLO', 'url': 'http://en.wikipedia.org/wiki/Timo_Glock', 'givenName': 'Timo', 'familyName': 'Glock', 'dateOfBirth': '1982-03-18', 'nationality': 'German'}, 'Constructors': [{'constructorId': 'toyota', 'url': 'http://en.wikipedia.org/wiki/Toyota_Racing', 'name': 'Toyota', 'nationality': 'Japanese'}]}, {'position': '16', 'positionText': '16', 'points': '0', 'wins': '0', 'Driver': {'driverId': 'fisichella', 'code': 'FIS', 'url': 'http://en.wikipedia.org/wiki/Giancarlo_Fisichella', 'givenName': 'Giancarlo', 'familyName': 'Fisichella', 'dateOfBirth': '1973-01-14', 'nationality': 'Italian'}, 'Constructors': [{'constructorId': 'force_india', 'url': 'http://en.wikipedia.org/wiki/Racing_Point_Force_India', 'name': 'Force India', 'nationality': 'Indian'}]}, {'position': '17', 'positionText': '17', 'points': '0', 'wins': '0', 'Driver': {'driverId': 'barrichello', 'code': 'BAR', 'url': 'http://en.wikipedia.org/wiki/Rubens_Barrichello', 'givenName': 'Rubens', 'familyName': 'Barrichello', 'dateOfBirth': '1972-05-23', 'nationality': 'Brazilian'}, 'Constructors': [{'constructorId': 'honda', 'url': 'http://en.wikipedia.org/wiki/Honda_Racing_F1', 'name': 'Honda', 'nationality': 'Japanese'}]}, {'position': '18', 'positionText': '18', 'points': '0', 'wins': '0', 'Driver': {'driverId': 'piquet_jr', 'code': 'PIQ', 'url': 'http://en.wikipedia.org/wiki/Nelson_Piquet,_Jr.', 'givenName': 'Nelson', 'familyName': 'Piquet Jr.', 'dateOfBirth': '1985-07-25', 'nationality': 'Brazilian'}, 'Constructors': [{'constructorId': 'renault', 'url': 'http://en.wikipedia.org/wiki/Renault_in_Formula_One', 'name': 'Renault', 'nationality': 'French'}]}, {'position': '19', 'positionText': '19', 'points': '0', 'wins': '0', 'Driver': {'driverId': 'sato', 'code': 'SAT', 'url': 'http://en.wikipedia.org/wiki/Takuma_Sato', 'givenName': 'Takuma', 'familyName': 'Sato', 'dateOfBirth': '1977-01-28', 'nationality': 'Japanese'}, 'Constructors': [{'constructorId': 'super_aguri', 'url': 'http://en.wikipedia.org/wiki/Super_Aguri_F1', 'name': 'Super Aguri', 'nationality': 'Japanese'}]}, {'position': '20', 'positionText': '20', 'points': '0', 'wins': '0', 'Driver': {'driverId': 'davidson', 'code': 'DAV', 'url': 'http://en.wikipedia.org/wiki/Anthony_Davidson', 'givenName': 'Anthony', 'familyName': 'Davidson', 'dateOfBirth': '1979-04-18', 'nationality': 'British'}, 'Constructors': [{'constructorId': 'super_aguri', 'url': 'http://en.wikipedia.org/wiki/Super_Aguri_F1', 'name': 'Super Aguri', 'nationality': 'Japanese'}]}, {'position': '21', 'positionText': '21', 'points': '0', 'wins': '0', 'Driver': {'driverId': 'sutil', 'permanentNumber': '99', 'code': 'SUT', 'url': 'http://en.wikipedia.org/wiki/Adrian_Sutil', 'givenName': 'Adrian', 'familyName': 'Sutil', 'dateOfBirth': '1983-01-11', 'nationality': 'German'}, 'Constructors': [{'constructorId': 'force_india', 'url': 'http://en.wikipedia.org/wiki/Racing_Point_Force_India', 'name': 'Force India', 'nationality': 'Indian'}]}, {'position': '22', 'positionText': '22', 'points': '0', 'wins': '0', 'Driver': {'driverId': 'vettel', 'permanentNumber': '5', 'code': 'VET', 'url': 'http://en.wikipedia.org/wiki/Sebastian_Vettel', 'givenName': 'Sebastian', 'familyName': 'Vettel', 'dateOfBirth': '1987-07-03', 'nationality': 'German'}, 'Constructors': [{'constructorId': 'toro_rosso', 'url': 'http://en.wikipedia.org/wiki/Scuderia_Toro_Rosso', 'name': 'Toro Rosso', 'nationality': 'Italian'}]}]\n"
     ]
    }
   ],
   "source": [
    "driver_standings_data = data['MRData']['StandingsTable']['StandingsLists'][0]['DriverStandings']\n",
    "print(driver_standings_data)"
   ]
  },
  {
   "attachments": {},
   "cell_type": "markdown",
   "id": "459823db",
   "metadata": {},
   "source": [
    "### Use a for loop to display all driver full names"
   ]
  },
  {
   "cell_type": "code",
   "execution_count": 17,
   "id": "be46a950",
   "metadata": {},
   "outputs": [
    {
     "name": "stdout",
     "output_type": "stream",
     "text": [
      "Kimi Räikkönen\n",
      "Felipe Massa\n",
      "Lewis Hamilton\n",
      "Robert Kubica\n",
      "Nick Heidfeld\n",
      "Heikki Kovalainen\n",
      "Mark Webber\n",
      "Fernando Alonso\n",
      "Jarno Trulli\n",
      "Nico Rosberg\n",
      "Kazuki Nakajima\n",
      "Jenson Button\n",
      "Sébastien Bourdais\n",
      "David Coulthard\n",
      "Timo Glock\n",
      "Giancarlo Fisichella\n",
      "Rubens Barrichello\n",
      "Nelson Piquet Jr.\n",
      "Takuma Sato\n",
      "Anthony Davidson\n",
      "Adrian Sutil\n",
      "Sebastian Vettel\n"
     ]
    }
   ],
   "source": [
    "for driver in driver_standings_data:\n",
    "    print(driver['Driver']['givenName'], driver['Driver']['familyName'])"
   ]
  },
  {
   "attachments": {},
   "cell_type": "markdown",
   "id": "43c20f0d",
   "metadata": {},
   "source": [
    "### Create a function getting certain driver info (givenName, familyName, dateOfBirth, wins, team)"
   ]
  },
  {
   "cell_type": "code",
   "execution_count": 23,
   "id": "3740c752",
   "metadata": {},
   "outputs": [
    {
     "name": "stdout",
     "output_type": "stream",
     "text": [
      "[{'first_name': 'Kimi', 'last_name': 'Räikkönen', 'DOB': '1979-10-17', 'wins': '2', 'team': 'Ferrari'}, {'first_name': 'Felipe', 'last_name': 'Massa', 'DOB': '1981-04-25', 'wins': '2', 'team': 'Ferrari'}, {'first_name': 'Lewis', 'last_name': 'Hamilton', 'DOB': '1985-01-07', 'wins': '1', 'team': 'McLaren'}, {'first_name': 'Robert', 'last_name': 'Kubica', 'DOB': '1984-12-07', 'wins': '0', 'team': 'BMW Sauber'}, {'first_name': 'Nick', 'last_name': 'Heidfeld', 'DOB': '1977-05-10', 'wins': '0', 'team': 'BMW Sauber'}, {'first_name': 'Heikki', 'last_name': 'Kovalainen', 'DOB': '1981-10-19', 'wins': '0', 'team': 'McLaren'}, {'first_name': 'Mark', 'last_name': 'Webber', 'DOB': '1976-08-27', 'wins': '0', 'team': 'Red Bull'}, {'first_name': 'Fernando', 'last_name': 'Alonso', 'DOB': '1981-07-29', 'wins': '0', 'team': 'Renault'}, {'first_name': 'Jarno', 'last_name': 'Trulli', 'DOB': '1974-07-13', 'wins': '0', 'team': 'Toyota'}, {'first_name': 'Nico', 'last_name': 'Rosberg', 'DOB': '1985-06-27', 'wins': '0', 'team': 'Williams'}, {'first_name': 'Kazuki', 'last_name': 'Nakajima', 'DOB': '1985-01-11', 'wins': '0', 'team': 'Williams'}, {'first_name': 'Jenson', 'last_name': 'Button', 'DOB': '1980-01-19', 'wins': '0', 'team': 'Honda'}, {'first_name': 'Sébastien', 'last_name': 'Bourdais', 'DOB': '1979-02-28', 'wins': '0', 'team': 'Toro Rosso'}, {'first_name': 'David', 'last_name': 'Coulthard', 'DOB': '1971-03-27', 'wins': '0', 'team': 'Red Bull'}, {'first_name': 'Timo', 'last_name': 'Glock', 'DOB': '1982-03-18', 'wins': '0', 'team': 'Toyota'}, {'first_name': 'Giancarlo', 'last_name': 'Fisichella', 'DOB': '1973-01-14', 'wins': '0', 'team': 'Force India'}, {'first_name': 'Rubens', 'last_name': 'Barrichello', 'DOB': '1972-05-23', 'wins': '0', 'team': 'Honda'}, {'first_name': 'Nelson', 'last_name': 'Piquet Jr.', 'DOB': '1985-07-25', 'wins': '0', 'team': 'Renault'}, {'first_name': 'Takuma', 'last_name': 'Sato', 'DOB': '1977-01-28', 'wins': '0', 'team': 'Super Aguri'}, {'first_name': 'Anthony', 'last_name': 'Davidson', 'DOB': '1979-04-18', 'wins': '0', 'team': 'Super Aguri'}, {'first_name': 'Adrian', 'last_name': 'Sutil', 'DOB': '1983-01-11', 'wins': '0', 'team': 'Force India'}, {'first_name': 'Sebastian', 'last_name': 'Vettel', 'DOB': '1987-07-03', 'wins': '0', 'team': 'Toro Rosso'}]\n"
     ]
    }
   ],
   "source": [
    "def get_driver_data(data):\n",
    "    new_driver_data = []\n",
    "    for driver in data:\n",
    "        driver_dict = {\n",
    "            'first_name': driver['Driver']['givenName'],\n",
    "            'last_name': driver['Driver']['familyName'],\n",
    "            'DOB': driver['Driver']['dateOfBirth'], # corrected typo\n",
    "            'wins': driver['wins'],\n",
    "            'team': driver['Constructors'][0]['name']\n",
    "        }\n",
    "        new_driver_data.append(driver_dict)\n",
    "    return new_driver_data\n",
    "\n",
    "print(get_driver_data(driver_standings_data))"
   ]
  },
  {
   "attachments": {},
   "cell_type": "markdown",
   "id": "1a713b13",
   "metadata": {},
   "source": [
    "### Making a more flexible function to handle different years and rounds"
   ]
  },
  {
   "cell_type": "code",
   "execution_count": 26,
   "id": "e9866280",
   "metadata": {},
   "outputs": [
    {
     "data": {
      "text/plain": [
       "[{'first_name': 'Max',\n",
       "  'last_name': 'Verstappen',\n",
       "  'DOB': '1997-09-30',\n",
       "  'wins': '1',\n",
       "  'team': 'Red Bull'},\n",
       " {'first_name': 'Sergio',\n",
       "  'last_name': 'Pérez',\n",
       "  'DOB': '1990-01-26',\n",
       "  'wins': '0',\n",
       "  'team': 'Red Bull'},\n",
       " {'first_name': 'Fernando',\n",
       "  'last_name': 'Alonso',\n",
       "  'DOB': '1981-07-29',\n",
       "  'wins': '0',\n",
       "  'team': 'Aston Martin'},\n",
       " {'first_name': 'Carlos',\n",
       "  'last_name': 'Sainz',\n",
       "  'DOB': '1994-09-01',\n",
       "  'wins': '0',\n",
       "  'team': 'Ferrari'},\n",
       " {'first_name': 'Lewis',\n",
       "  'last_name': 'Hamilton',\n",
       "  'DOB': '1985-01-07',\n",
       "  'wins': '0',\n",
       "  'team': 'Mercedes'},\n",
       " {'first_name': 'Lance',\n",
       "  'last_name': 'Stroll',\n",
       "  'DOB': '1998-10-29',\n",
       "  'wins': '0',\n",
       "  'team': 'Aston Martin'},\n",
       " {'first_name': 'George',\n",
       "  'last_name': 'Russell',\n",
       "  'DOB': '1998-02-15',\n",
       "  'wins': '0',\n",
       "  'team': 'Mercedes'},\n",
       " {'first_name': 'Valtteri',\n",
       "  'last_name': 'Bottas',\n",
       "  'DOB': '1989-08-28',\n",
       "  'wins': '0',\n",
       "  'team': 'Alfa Romeo'},\n",
       " {'first_name': 'Pierre',\n",
       "  'last_name': 'Gasly',\n",
       "  'DOB': '1996-02-07',\n",
       "  'wins': '0',\n",
       "  'team': 'Alpine F1 Team'},\n",
       " {'first_name': 'Alexander',\n",
       "  'last_name': 'Albon',\n",
       "  'DOB': '1996-03-23',\n",
       "  'wins': '0',\n",
       "  'team': 'Williams'},\n",
       " {'first_name': 'Yuki',\n",
       "  'last_name': 'Tsunoda',\n",
       "  'DOB': '2000-05-11',\n",
       "  'wins': '0',\n",
       "  'team': 'AlphaTauri'},\n",
       " {'first_name': 'Logan',\n",
       "  'last_name': 'Sargeant',\n",
       "  'DOB': '2000-12-31',\n",
       "  'wins': '0',\n",
       "  'team': 'Williams'},\n",
       " {'first_name': 'Kevin',\n",
       "  'last_name': 'Magnussen',\n",
       "  'DOB': '1992-10-05',\n",
       "  'wins': '0',\n",
       "  'team': 'Haas F1 Team'},\n",
       " {'first_name': 'Nyck',\n",
       "  'last_name': 'de Vries',\n",
       "  'DOB': '1995-02-06',\n",
       "  'wins': '0',\n",
       "  'team': 'AlphaTauri'},\n",
       " {'first_name': 'Nico',\n",
       "  'last_name': 'Hülkenberg',\n",
       "  'DOB': '1987-08-19',\n",
       "  'wins': '0',\n",
       "  'team': 'Haas F1 Team'},\n",
       " {'first_name': 'Guanyu',\n",
       "  'last_name': 'Zhou',\n",
       "  'DOB': '1999-05-30',\n",
       "  'wins': '0',\n",
       "  'team': 'Alfa Romeo'},\n",
       " {'first_name': 'Lando',\n",
       "  'last_name': 'Norris',\n",
       "  'DOB': '1999-11-13',\n",
       "  'wins': '0',\n",
       "  'team': 'McLaren'},\n",
       " {'first_name': 'Esteban',\n",
       "  'last_name': 'Ocon',\n",
       "  'DOB': '1996-09-17',\n",
       "  'wins': '0',\n",
       "  'team': 'Alpine F1 Team'},\n",
       " {'first_name': 'Charles',\n",
       "  'last_name': 'Leclerc',\n",
       "  'DOB': '1997-10-16',\n",
       "  'wins': '0',\n",
       "  'team': 'Ferrari'},\n",
       " {'first_name': 'Oscar',\n",
       "  'last_name': 'Piastri',\n",
       "  'DOB': '2001-04-06',\n",
       "  'wins': '0',\n",
       "  'team': 'McLaren'}]"
      ]
     },
     "execution_count": 26,
     "metadata": {},
     "output_type": "execute_result"
    }
   ],
   "source": [
    "def get_driver_data_year_rnd(year, rnd):\n",
    "    url = f'http://ergast.com/api/f1/{year}/{rnd}/driverStandings.json'\n",
    "    requests.get(url)\n",
    "    response = requests.get(url)\n",
    "    data = response.json()['MRData']['StandingsTable']['StandingsLists'][0]['DriverStandings']\n",
    "    #call helper function\n",
    "    return get_driver_data(data)\n",
    "\n",
    "get_driver_data_year_rnd(2023,1)\n",
    "    "
   ]
  },
  {
   "cell_type": "markdown",
   "id": "6d546014",
   "metadata": {},
   "source": [
    "# <strong>Homework</strong>\n",
    "check out this Pokemon API https://pokeapi.co/\n",
    "Use the requests package to connect to this API and get and store data for 5 different pokemon.\n",
    "Get the pokemons: name, atleast one ability's name, base_experience, and the URL for its sprite (an image that shows up on screen) for the 'front_shiny', attack base_stat, hp base_stat, defense base_stat"
   ]
  },
  {
   "cell_type": "code",
   "execution_count": 10,
   "id": "5a9081e3",
   "metadata": {},
   "outputs": [
    {
     "name": "stdout",
     "output_type": "stream",
     "text": [
      "(112, 'https://raw.githubusercontent.com/PokeAPI/sprites/master/sprites/pokemon/25.png', 'https://raw.githubusercontent.com/PokeAPI/sprites/master/sprites/pokemon/shiny/25.png', {'HP:': 35, 'ATTACK:': 55, 'DEFENSE:': 40, 'SPECIAL-ATTACK:': 50, 'SPECIAL-DEFENSE:': 50, 'SPEED:': 90}, ['electric'], 25)\n",
      "(64, 'https://raw.githubusercontent.com/PokeAPI/sprites/master/sprites/pokemon/1.png', 'https://raw.githubusercontent.com/PokeAPI/sprites/master/sprites/pokemon/shiny/1.png', {'HP:': 45, 'ATTACK:': 49, 'DEFENSE:': 49, 'SPECIAL-ATTACK:': 65, 'SPECIAL-DEFENSE:': 65, 'SPEED:': 45}, ['grass', 'poison'], 1)\n",
      "(62, 'https://raw.githubusercontent.com/PokeAPI/sprites/master/sprites/pokemon/4.png', 'https://raw.githubusercontent.com/PokeAPI/sprites/master/sprites/pokemon/shiny/4.png', {'HP:': 39, 'ATTACK:': 52, 'DEFENSE:': 43, 'SPECIAL-ATTACK:': 60, 'SPECIAL-DEFENSE:': 50, 'SPEED:': 65}, ['fire'], 4)\n",
      "(63, 'https://raw.githubusercontent.com/PokeAPI/sprites/master/sprites/pokemon/7.png', 'https://raw.githubusercontent.com/PokeAPI/sprites/master/sprites/pokemon/shiny/7.png', {'HP:': 44, 'ATTACK:': 48, 'DEFENSE:': 65, 'SPECIAL-ATTACK:': 50, 'SPECIAL-DEFENSE:': 64, 'SPEED:': 43}, ['water'], 7)\n",
      "(300, 'https://raw.githubusercontent.com/PokeAPI/sprites/master/sprites/pokemon/151.png', 'https://raw.githubusercontent.com/PokeAPI/sprites/master/sprites/pokemon/shiny/151.png', {'HP:': 100, 'ATTACK:': 100, 'DEFENSE:': 100, 'SPECIAL-ATTACK:': 100, 'SPECIAL-DEFENSE:': 100, 'SPEED:': 100}, ['psychic'], 151)\n"
     ]
    }
   ],
   "source": [
    "import requests\n",
    "\n",
    "def get_poke_info(data):\n",
    "    baseExp = data.get('base_experience')\n",
    "    spriteURL = data.get('sprites', {}).get('front_default')\n",
    "    spriteShinyURL = data.get('sprites', {}).get('front_shiny')\n",
    "    baseStats = {stat.get('stat', {}).get('name', '').upper() + ':': stat.get('base_stat') for stat in data.get('stats', [])}\n",
    "    pokemonType = [pkmnType.get('type', {}).get('name') for pkmnType in data.get('types', [])]\n",
    "    pokedexID = data.get('id')\n",
    "    return baseExp, spriteURL, spriteShinyURL, baseStats, pokemonType, pokedexID\n",
    "\n",
    "pokemon_names = ['pikachu', 'bulbasaur', 'charmander', 'squirtle', 'mew']\n",
    "\n",
    "for name in pokemon_names:\n",
    "    url = f\"https://pokeapi.co/api/v2/pokemon/{name}\"\n",
    "    response = requests.get(url)\n",
    "    data = response.json()\n",
    "    poke_info = get_poke_info(data)\n",
    "    print(poke_info)\n"
   ]
  }
 ],
 "metadata": {
  "kernelspec": {
   "display_name": "Python 3.10.8 64-bit (microsoft store)",
   "language": "python",
   "name": "python3"
  },
  "language_info": {
   "codemirror_mode": {
    "name": "ipython",
    "version": 3
   },
   "file_extension": ".py",
   "mimetype": "text/x-python",
   "name": "python",
   "nbconvert_exporter": "python",
   "pygments_lexer": "ipython3",
   "version": "3.11.4"
  },
  "vscode": {
   "interpreter": {
    "hash": "aa82987a71ca0339a52998cd22613b0c002bda8349fa32a0cb67ceec3936a2bf"
   }
  }
 },
 "nbformat": 4,
 "nbformat_minor": 5
}
